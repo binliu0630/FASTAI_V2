{
  "nbformat": 4,
  "nbformat_minor": 0,
  "metadata": {
    "colab": {
      "name": "Lesson 3-imdb.ipynb",
      "provenance": [],
      "authorship_tag": "ABX9TyOLdcE+jpLfhgCi7n+E7KK6",
      "include_colab_link": true
    },
    "kernelspec": {
      "name": "python3",
      "display_name": "Python 3"
    }
  },
  "cells": [
    {
      "cell_type": "markdown",
      "metadata": {
        "id": "view-in-github",
        "colab_type": "text"
      },
      "source": [
        "<a href=\"https://colab.research.google.com/github/binliu0630/FASTAI_V2/blob/master/Lesson_3_imdb.ipynb\" target=\"_parent\"><img src=\"https://colab.research.google.com/assets/colab-badge.svg\" alt=\"Open In Colab\"/></a>"
      ]
    },
    {
      "cell_type": "code",
      "metadata": {
        "id": "oqId7sPRo2C4",
        "colab_type": "code",
        "colab": {
          "base_uri": "https://localhost:8080/",
          "height": 714
        },
        "outputId": "72291bbe-5814-4334-ee8d-3d933ee1300b"
      },
      "source": [
        "!pip install fastai2"
      ],
      "execution_count": 1,
      "outputs": [
        {
          "output_type": "stream",
          "text": [
            "Collecting fastai2\n",
            "\u001b[?25l  Downloading https://files.pythonhosted.org/packages/73/89/146cbcd50f17b75fe4307545acc3cca9f19a73db4bf7b4c56dcecd966f4f/fastai2-0.0.10-py3-none-any.whl (176kB)\n",
            "\r\u001b[K     |█▉                              | 10kB 18.7MB/s eta 0:00:01\r\u001b[K     |███▊                            | 20kB 1.9MB/s eta 0:00:01\r\u001b[K     |█████▋                          | 30kB 2.7MB/s eta 0:00:01\r\u001b[K     |███████▍                        | 40kB 1.8MB/s eta 0:00:01\r\u001b[K     |█████████▎                      | 51kB 2.2MB/s eta 0:00:01\r\u001b[K     |███████████▏                    | 61kB 2.6MB/s eta 0:00:01\r\u001b[K     |█████████████                   | 71kB 3.0MB/s eta 0:00:01\r\u001b[K     |██████████████▉                 | 81kB 3.4MB/s eta 0:00:01\r\u001b[K     |████████████████▊               | 92kB 3.8MB/s eta 0:00:01\r\u001b[K     |██████████████████▋             | 102kB 2.9MB/s eta 0:00:01\r\u001b[K     |████████████████████▍           | 112kB 2.9MB/s eta 0:00:01\r\u001b[K     |██████████████████████▎         | 122kB 2.9MB/s eta 0:00:01\r\u001b[K     |████████████████████████▏       | 133kB 2.9MB/s eta 0:00:01\r\u001b[K     |██████████████████████████      | 143kB 2.9MB/s eta 0:00:01\r\u001b[K     |███████████████████████████▉    | 153kB 2.9MB/s eta 0:00:01\r\u001b[K     |█████████████████████████████▊  | 163kB 2.9MB/s eta 0:00:01\r\u001b[K     |███████████████████████████████▋| 174kB 2.9MB/s eta 0:00:01\r\u001b[K     |████████████████████████████████| 184kB 2.9MB/s \n",
            "\u001b[?25hRequirement already satisfied: pandas in /usr/local/lib/python3.6/dist-packages (from fastai2) (0.25.3)\n",
            "Requirement already satisfied: torchvision>=0.5 in /usr/local/lib/python3.6/dist-packages (from fastai2) (0.5.0)\n",
            "Requirement already satisfied: scikit-learn in /usr/local/lib/python3.6/dist-packages (from fastai2) (0.22.1)\n",
            "Requirement already satisfied: pyyaml in /usr/local/lib/python3.6/dist-packages (from fastai2) (3.13)\n",
            "Requirement already satisfied: fastprogress>=0.1.22 in /usr/local/lib/python3.6/dist-packages (from fastai2) (0.2.2)\n",
            "Requirement already satisfied: pillow in /usr/local/lib/python3.6/dist-packages (from fastai2) (6.2.2)\n",
            "Collecting fastcore\n",
            "  Downloading https://files.pythonhosted.org/packages/5d/e4/62d66b9530a777af12049d20592854eb21a826b7cf6fee96f04bd8cdcbba/fastcore-0.1.12-py3-none-any.whl\n",
            "Requirement already satisfied: scipy in /usr/local/lib/python3.6/dist-packages (from fastai2) (1.4.1)\n",
            "Requirement already satisfied: matplotlib in /usr/local/lib/python3.6/dist-packages (from fastai2) (3.1.3)\n",
            "Requirement already satisfied: requests in /usr/local/lib/python3.6/dist-packages (from fastai2) (2.21.0)\n",
            "Requirement already satisfied: spacy in /usr/local/lib/python3.6/dist-packages (from fastai2) (2.1.9)\n",
            "Requirement already satisfied: torch>=1.2.0 in /usr/local/lib/python3.6/dist-packages (from fastai2) (1.4.0)\n",
            "Requirement already satisfied: python-dateutil>=2.6.1 in /usr/local/lib/python3.6/dist-packages (from pandas->fastai2) (2.6.1)\n",
            "Requirement already satisfied: pytz>=2017.2 in /usr/local/lib/python3.6/dist-packages (from pandas->fastai2) (2018.9)\n",
            "Requirement already satisfied: numpy>=1.13.3 in /usr/local/lib/python3.6/dist-packages (from pandas->fastai2) (1.17.5)\n",
            "Requirement already satisfied: six in /usr/local/lib/python3.6/dist-packages (from torchvision>=0.5->fastai2) (1.12.0)\n",
            "Requirement already satisfied: joblib>=0.11 in /usr/local/lib/python3.6/dist-packages (from scikit-learn->fastai2) (0.14.1)\n",
            "Requirement already satisfied: dataclasses>='0.7'; python_version < \"3.7\" in /usr/local/lib/python3.6/dist-packages (from fastcore->fastai2) (0.7)\n",
            "Requirement already satisfied: pyparsing!=2.0.4,!=2.1.2,!=2.1.6,>=2.0.1 in /usr/local/lib/python3.6/dist-packages (from matplotlib->fastai2) (2.4.6)\n",
            "Requirement already satisfied: kiwisolver>=1.0.1 in /usr/local/lib/python3.6/dist-packages (from matplotlib->fastai2) (1.1.0)\n",
            "Requirement already satisfied: cycler>=0.10 in /usr/local/lib/python3.6/dist-packages (from matplotlib->fastai2) (0.10.0)\n",
            "Requirement already satisfied: chardet<3.1.0,>=3.0.2 in /usr/local/lib/python3.6/dist-packages (from requests->fastai2) (3.0.4)\n",
            "Requirement already satisfied: urllib3<1.25,>=1.21.1 in /usr/local/lib/python3.6/dist-packages (from requests->fastai2) (1.24.3)\n",
            "Requirement already satisfied: certifi>=2017.4.17 in /usr/local/lib/python3.6/dist-packages (from requests->fastai2) (2019.11.28)\n",
            "Requirement already satisfied: idna<2.9,>=2.5 in /usr/local/lib/python3.6/dist-packages (from requests->fastai2) (2.8)\n",
            "Requirement already satisfied: preshed<2.1.0,>=2.0.1 in /usr/local/lib/python3.6/dist-packages (from spacy->fastai2) (2.0.1)\n",
            "Requirement already satisfied: wasabi<1.1.0,>=0.2.0 in /usr/local/lib/python3.6/dist-packages (from spacy->fastai2) (0.6.0)\n",
            "Requirement already satisfied: plac<1.0.0,>=0.9.6 in /usr/local/lib/python3.6/dist-packages (from spacy->fastai2) (0.9.6)\n",
            "Requirement already satisfied: cymem<2.1.0,>=2.0.2 in /usr/local/lib/python3.6/dist-packages (from spacy->fastai2) (2.0.3)\n",
            "Requirement already satisfied: thinc<7.1.0,>=7.0.8 in /usr/local/lib/python3.6/dist-packages (from spacy->fastai2) (7.0.8)\n",
            "Requirement already satisfied: murmurhash<1.1.0,>=0.28.0 in /usr/local/lib/python3.6/dist-packages (from spacy->fastai2) (1.0.2)\n",
            "Requirement already satisfied: blis<0.3.0,>=0.2.2 in /usr/local/lib/python3.6/dist-packages (from spacy->fastai2) (0.2.4)\n",
            "Requirement already satisfied: srsly<1.1.0,>=0.0.6 in /usr/local/lib/python3.6/dist-packages (from spacy->fastai2) (1.0.1)\n",
            "Requirement already satisfied: setuptools in /usr/local/lib/python3.6/dist-packages (from kiwisolver>=1.0.1->matplotlib->fastai2) (45.1.0)\n",
            "Requirement already satisfied: tqdm<5.0.0,>=4.10.0 in /usr/local/lib/python3.6/dist-packages (from thinc<7.1.0,>=7.0.8->spacy->fastai2) (4.28.1)\n",
            "Installing collected packages: fastcore, fastai2\n",
            "Successfully installed fastai2-0.0.10 fastcore-0.1.12\n"
          ],
          "name": "stdout"
        }
      ]
    },
    {
      "cell_type": "code",
      "metadata": {
        "id": "tDg6qN3Mo-_6",
        "colab_type": "code",
        "colab": {
          "base_uri": "https://localhost:8080/",
          "height": 493
        },
        "outputId": "2c6e91ef-edcd-404b-c9bb-3f8e5da14d58"
      },
      "source": [
        "!pip install nbdev"
      ],
      "execution_count": 2,
      "outputs": [
        {
          "output_type": "stream",
          "text": [
            "Collecting nbdev\n",
            "\u001b[?25l  Downloading https://files.pythonhosted.org/packages/de/5a/2ba0234320921b33c5c8c3fe5fb5edfab9a9184c6a8eb64336ecc3bf5464/nbdev-0.2.11-py3-none-any.whl (43kB)\n",
            "\r\u001b[K     |███████▌                        | 10kB 14.2MB/s eta 0:00:01\r\u001b[K     |███████████████                 | 20kB 1.8MB/s eta 0:00:01\r\u001b[K     |██████████████████████▍         | 30kB 2.6MB/s eta 0:00:01\r\u001b[K     |██████████████████████████████  | 40kB 1.8MB/s eta 0:00:01\r\u001b[K     |████████████████████████████████| 51kB 1.7MB/s \n",
            "\u001b[?25hRequirement already satisfied: pyyaml in /usr/local/lib/python3.6/dist-packages (from nbdev) (3.13)\n",
            "Collecting fastscript\n",
            "  Downloading https://files.pythonhosted.org/packages/55/0e/ecdc0213646bc82986884121109a38b50bbc2cd2c491bbbfdc7ae39228e3/fastscript-0.1.4-py3-none-any.whl\n",
            "Requirement already satisfied: packaging in /usr/local/lib/python3.6/dist-packages (from nbdev) (20.1)\n",
            "Requirement already satisfied: nbconvert>=5.6.1 in /usr/local/lib/python3.6/dist-packages (from nbdev) (5.6.1)\n",
            "Requirement already satisfied: nbformat>=4.4.0 in /usr/local/lib/python3.6/dist-packages (from nbdev) (5.0.4)\n",
            "Requirement already satisfied: six in /usr/local/lib/python3.6/dist-packages (from packaging->nbdev) (1.12.0)\n",
            "Requirement already satisfied: pyparsing>=2.0.2 in /usr/local/lib/python3.6/dist-packages (from packaging->nbdev) (2.4.6)\n",
            "Requirement already satisfied: jupyter-core in /usr/local/lib/python3.6/dist-packages (from nbconvert>=5.6.1->nbdev) (4.6.2)\n",
            "Requirement already satisfied: traitlets>=4.2 in /usr/local/lib/python3.6/dist-packages (from nbconvert>=5.6.1->nbdev) (4.3.3)\n",
            "Requirement already satisfied: pandocfilters>=1.4.1 in /usr/local/lib/python3.6/dist-packages (from nbconvert>=5.6.1->nbdev) (1.4.2)\n",
            "Requirement already satisfied: mistune<2,>=0.8.1 in /usr/local/lib/python3.6/dist-packages (from nbconvert>=5.6.1->nbdev) (0.8.4)\n",
            "Requirement already satisfied: defusedxml in /usr/local/lib/python3.6/dist-packages (from nbconvert>=5.6.1->nbdev) (0.6.0)\n",
            "Requirement already satisfied: entrypoints>=0.2.2 in /usr/local/lib/python3.6/dist-packages (from nbconvert>=5.6.1->nbdev) (0.3)\n",
            "Requirement already satisfied: testpath in /usr/local/lib/python3.6/dist-packages (from nbconvert>=5.6.1->nbdev) (0.4.4)\n",
            "Requirement already satisfied: bleach in /usr/local/lib/python3.6/dist-packages (from nbconvert>=5.6.1->nbdev) (3.1.0)\n",
            "Requirement already satisfied: jinja2>=2.4 in /usr/local/lib/python3.6/dist-packages (from nbconvert>=5.6.1->nbdev) (2.11.1)\n",
            "Requirement already satisfied: pygments in /usr/local/lib/python3.6/dist-packages (from nbconvert>=5.6.1->nbdev) (2.1.3)\n",
            "Requirement already satisfied: ipython-genutils in /usr/local/lib/python3.6/dist-packages (from nbformat>=4.4.0->nbdev) (0.2.0)\n",
            "Requirement already satisfied: jsonschema!=2.5.0,>=2.4 in /usr/local/lib/python3.6/dist-packages (from nbformat>=4.4.0->nbdev) (2.6.0)\n",
            "Requirement already satisfied: decorator in /usr/local/lib/python3.6/dist-packages (from traitlets>=4.2->nbconvert>=5.6.1->nbdev) (4.4.1)\n",
            "Requirement already satisfied: webencodings in /usr/local/lib/python3.6/dist-packages (from bleach->nbconvert>=5.6.1->nbdev) (0.5.1)\n",
            "Requirement already satisfied: MarkupSafe>=0.23 in /usr/local/lib/python3.6/dist-packages (from jinja2>=2.4->nbconvert>=5.6.1->nbdev) (1.1.1)\n",
            "Installing collected packages: fastscript, nbdev\n",
            "Successfully installed fastscript-0.1.4 nbdev-0.2.11\n"
          ],
          "name": "stdout"
        }
      ]
    },
    {
      "cell_type": "code",
      "metadata": {
        "id": "XcHYU08SpBox",
        "colab_type": "code",
        "colab": {}
      },
      "source": [
        "%matplotlib inline\n",
        "from fastai2.text.all import *\n",
        "from nbdev.showdoc import *\n"
      ],
      "execution_count": 0,
      "outputs": []
    },
    {
      "cell_type": "markdown",
      "metadata": {
        "id": "Y7KL6U8EpUoP",
        "colab_type": "text"
      },
      "source": [
        "# Prep the data"
      ]
    },
    {
      "cell_type": "code",
      "metadata": {
        "id": "virsF1xBpLB0",
        "colab_type": "code",
        "colab": {
          "base_uri": "https://localhost:8080/",
          "height": 17
        },
        "outputId": "7568d85e-20a8-4bf7-c3e6-69d161e5b14c"
      },
      "source": [
        "path = untar_data(URLs.IMDB_SAMPLE)"
      ],
      "execution_count": 5,
      "outputs": [
        {
          "output_type": "display_data",
          "data": {
            "text/html": [
              ""
            ],
            "text/plain": [
              "<IPython.core.display.HTML object>"
            ]
          },
          "metadata": {
            "tags": []
          }
        }
      ]
    },
    {
      "cell_type": "code",
      "metadata": {
        "id": "TXNNE-HDpbiT",
        "colab_type": "code",
        "colab": {
          "base_uri": "https://localhost:8080/",
          "height": 34
        },
        "outputId": "fd5ed925-17e9-47da-857d-8be0c121c6ee"
      },
      "source": [
        "path.ls()"
      ],
      "execution_count": 6,
      "outputs": [
        {
          "output_type": "execute_result",
          "data": {
            "text/plain": [
              "(#1) [Path('/root/.fastai/data/imdb_sample/texts.csv')]"
            ]
          },
          "metadata": {
            "tags": []
          },
          "execution_count": 6
        }
      ]
    },
    {
      "cell_type": "code",
      "metadata": {
        "id": "9kXafrdfpfNH",
        "colab_type": "code",
        "colab": {
          "base_uri": "https://localhost:8080/",
          "height": 272
        },
        "outputId": "72cf65c5-ed25-4344-b4db-571556ea154c"
      },
      "source": [
        "df = pd.read_csv(path/'texts.csv')\n",
        "df.head()"
      ],
      "execution_count": 9,
      "outputs": [
        {
          "output_type": "execute_result",
          "data": {
            "text/html": [
              "<div>\n",
              "<style scoped>\n",
              "    .dataframe tbody tr th:only-of-type {\n",
              "        vertical-align: middle;\n",
              "    }\n",
              "\n",
              "    .dataframe tbody tr th {\n",
              "        vertical-align: top;\n",
              "    }\n",
              "\n",
              "    .dataframe thead th {\n",
              "        text-align: right;\n",
              "    }\n",
              "</style>\n",
              "<table border=\"1\" class=\"dataframe\">\n",
              "  <thead>\n",
              "    <tr style=\"text-align: right;\">\n",
              "      <th></th>\n",
              "      <th>label</th>\n",
              "      <th>text</th>\n",
              "      <th>is_valid</th>\n",
              "    </tr>\n",
              "  </thead>\n",
              "  <tbody>\n",
              "    <tr>\n",
              "      <th>0</th>\n",
              "      <td>negative</td>\n",
              "      <td>Un-bleeping-believable! Meg Ryan doesn't even look her usual pert lovable self in this, which normally makes me forgive her shallow ticky acting schtick. Hard to believe she was the producer on this dog. Plus Kevin Kline: what kind of suicide trip has his career been on? Whoosh... Banzai!!! Finally this was directed by the guy who did Big Chill? Must be a replay of Jonestown - hollywood style. Wooofff!</td>\n",
              "      <td>False</td>\n",
              "    </tr>\n",
              "    <tr>\n",
              "      <th>1</th>\n",
              "      <td>positive</td>\n",
              "      <td>This is a extremely well-made film. The acting, script and camera-work are all first-rate. The music is good, too, though it is mostly early in the film, when things are still relatively cheery. There are no really superstars in the cast, though several faces will be familiar. The entire cast does an excellent job with the script.&lt;br /&gt;&lt;br /&gt;But it is hard to watch, because there is no good end to a situation like the one presented. It is now fashionable to blame the British for setting Hindus and Muslims against each other, and then cruelly separating them into two countries. There is som...</td>\n",
              "      <td>False</td>\n",
              "    </tr>\n",
              "    <tr>\n",
              "      <th>2</th>\n",
              "      <td>negative</td>\n",
              "      <td>Every once in a long while a movie will come along that will be so awful that I feel compelled to warn people. If I labor all my days and I can save but one soul from watching this movie, how great will be my joy.&lt;br /&gt;&lt;br /&gt;Where to begin my discussion of pain. For starters, there was a musical montage every five minutes. There was no character development. Every character was a stereotype. We had swearing guy, fat guy who eats donuts, goofy foreign guy, etc. The script felt as if it were being written as the movie was being shot. The production value was so incredibly low that it felt li...</td>\n",
              "      <td>False</td>\n",
              "    </tr>\n",
              "    <tr>\n",
              "      <th>3</th>\n",
              "      <td>positive</td>\n",
              "      <td>Name just says it all. I watched this movie with my dad when it came out and having served in Korea he had great admiration for the man. The disappointing thing about this film is that it only concentrate on a short period of the man's life - interestingly enough the man's entire life would have made such an epic bio-pic that it is staggering to imagine the cost for production.&lt;br /&gt;&lt;br /&gt;Some posters elude to the flawed characteristics about the man, which are cheap shots. The theme of the movie \"Duty, Honor, Country\" are not just mere words blathered from the lips of a high-brassed offic...</td>\n",
              "      <td>False</td>\n",
              "    </tr>\n",
              "    <tr>\n",
              "      <th>4</th>\n",
              "      <td>negative</td>\n",
              "      <td>This movie succeeds at being one of the most unique movies you've seen. However this comes from the fact that you can't make heads or tails of this mess. It almost seems as a series of challenges set up to determine whether or not you are willing to walk out of the movie and give up the money you just paid. If you don't want to feel slighted you'll sit through this horrible film and develop a real sense of pity for the actors involved, they've all seen better days, but then you realize they actually got paid quite a bit of money to do this and you'll lose pity for them just like you've alr...</td>\n",
              "      <td>False</td>\n",
              "    </tr>\n",
              "  </tbody>\n",
              "</table>\n",
              "</div>"
            ],
            "text/plain": [
              "      label  ... is_valid\n",
              "0  negative  ...    False\n",
              "1  positive  ...    False\n",
              "2  negative  ...    False\n",
              "3  positive  ...    False\n",
              "4  negative  ...    False\n",
              "\n",
              "[5 rows x 3 columns]"
            ]
          },
          "metadata": {
            "tags": []
          },
          "execution_count": 9
        }
      ]
    },
    {
      "cell_type": "code",
      "metadata": {
        "id": "Rt7xsXJzpvcU",
        "colab_type": "code",
        "colab": {
          "base_uri": "https://localhost:8080/",
          "height": 54
        },
        "outputId": "7d867b40-f984-4554-8c1f-1306157df904"
      },
      "source": [
        "df['text'][1]"
      ],
      "execution_count": 10,
      "outputs": [
        {
          "output_type": "execute_result",
          "data": {
            "text/plain": [
              "'This is a extremely well-made film. The acting, script and camera-work are all first-rate. The music is good, too, though it is mostly early in the film, when things are still relatively cheery. There are no really superstars in the cast, though several faces will be familiar. The entire cast does an excellent job with the script.<br /><br />But it is hard to watch, because there is no good end to a situation like the one presented. It is now fashionable to blame the British for setting Hindus and Muslims against each other, and then cruelly separating them into two countries. There is some merit in this view, but it\\'s also true that no one forced Hindus and Muslims in the region to mistreat each other as they did around the time of partition. It seems more likely that the British simply saw the tensions between the religions and were clever enough to exploit them to their own ends.<br /><br />The result is that there is much cruelty and inhumanity in the situation and this is very unpleasant to remember and to see on the screen. But it is never painted as a black-and-white case. There is baseness and nobility on both sides, and also the hope for change in the younger generation.<br /><br />There is redemption of a sort, in the end, when Puro has to make a hard choice between a man who has ruined her life, but also truly loved her, and her family which has disowned her, then later come looking for her. But by that point, she has no option that is without great pain for her.<br /><br />This film carries the message that both Muslims and Hindus have their grave faults, and also that both can be dignified and caring people. The reality of partition makes that realisation all the more wrenching, since there can never be real reconciliation across the India/Pakistan border. In that sense, it is similar to \"Mr & Mrs Iyer\".<br /><br />In the end, we were glad to have seen the film, even though the resolution was heartbreaking. If the UK and US could deal with their own histories of racism with this kind of frankness, they would certainly be better off.'"
            ]
          },
          "metadata": {
            "tags": []
          },
          "execution_count": 10
        }
      ]
    },
    {
      "cell_type": "code",
      "metadata": {
        "id": "hLx2y_umqDMl",
        "colab_type": "code",
        "colab": {
          "base_uri": "https://localhost:8080/",
          "height": 17
        },
        "outputId": "a0c62e15-5c12-47b6-aab2-22ab009ddce4"
      },
      "source": [
        "dbunch_lm = TextDataLoaders.from_df(df, text_col='text', label_col='label',path=path, is_lm=True)"
      ],
      "execution_count": 12,
      "outputs": [
        {
          "output_type": "display_data",
          "data": {
            "text/html": [
              ""
            ],
            "text/plain": [
              "<IPython.core.display.HTML object>"
            ]
          },
          "metadata": {
            "tags": []
          }
        }
      ]
    },
    {
      "cell_type": "code",
      "metadata": {
        "id": "sl0FUvIir2UV",
        "colab_type": "code",
        "colab": {
          "base_uri": "https://localhost:8080/",
          "height": 357
        },
        "outputId": "0cda4af1-b553-4811-8814-64da1ba97cff"
      },
      "source": [
        "dbunch_lm.vocab[:20]"
      ],
      "execution_count": 13,
      "outputs": [
        {
          "output_type": "execute_result",
          "data": {
            "text/plain": [
              "['xxunk',\n",
              " 'xxpad',\n",
              " 'xxbos',\n",
              " 'xxeos',\n",
              " 'xxfld',\n",
              " 'xxrep',\n",
              " 'xxwrep',\n",
              " 'xxup',\n",
              " 'xxmaj',\n",
              " 'the',\n",
              " ',',\n",
              " '.',\n",
              " 'and',\n",
              " 'a',\n",
              " 'of',\n",
              " 'to',\n",
              " 'is',\n",
              " 'it',\n",
              " 'in',\n",
              " 'i']"
            ]
          },
          "metadata": {
            "tags": []
          },
          "execution_count": 13
        }
      ]
    },
    {
      "cell_type": "code",
      "metadata": {
        "id": "RgM6rNResAJ1",
        "colab_type": "code",
        "colab": {
          "base_uri": "https://localhost:8080/",
          "height": 170
        },
        "outputId": "3f001617-b3f7-45b0-9af5-792d3361224c"
      },
      "source": [
        "dbunch_lm.train_ds[0]"
      ],
      "execution_count": 14,
      "outputs": [
        {
          "output_type": "execute_result",
          "data": {
            "text/plain": [
              "(TensorText([   2,    8,   21,   16,  281,  191,   97,   29,   20,   33,  149,  232,\n",
              "          883,  171,   11,    8,    9,  134,  104,   43,   13,  207,   22,    0,\n",
              "           22,   98,   17,  174,   16,   12,   74,   43,  139,  116,   27,   13,\n",
              "         4903,  674,   29,   11,   26,    8,    9,  124, 1113,  156,   15,   43,\n",
              "         4426,   10,  165,   33,   83,   39,  186,  264,  143, 3377,   35,   64,\n",
              "           17,   16,   11,   26,    8,   21,   16,   44,   14,  164,   20,   33,\n",
              "          127,   35,  478,  397,    7,  267,   10,  338,   35,    7, 3256,   10,\n",
              "          272,  103,   33,   83,   39,  100,   15, 2543,   11,    8,  127,   17,\n",
              "           59,   33,  197,   31,   61,   39,  591,  121,  101,   51,   17,   11]),)"
            ]
          },
          "metadata": {
            "tags": []
          },
          "execution_count": 14
        }
      ]
    },
    {
      "cell_type": "code",
      "metadata": {
        "id": "M_rTie-vsHGP",
        "colab_type": "code",
        "colab": {
          "base_uri": "https://localhost:8080/",
          "height": 481
        },
        "outputId": "a754ad2c-8c43-4165-e201-e8150e97791f"
      },
      "source": [
        "dbunch_lm.show_batch()"
      ],
      "execution_count": 15,
      "outputs": [
        {
          "output_type": "display_data",
          "data": {
            "text/html": [
              "<table border=\"1\" class=\"dataframe\">\n",
              "  <thead>\n",
              "    <tr style=\"text-align: right;\">\n",
              "      <th></th>\n",
              "      <th>text</th>\n",
              "      <th>text_</th>\n",
              "    </tr>\n",
              "  </thead>\n",
              "  <tbody>\n",
              "    <tr>\n",
              "      <th>0</th>\n",
              "      <td>xxbos i am glad to read so many negative comments about the xxmaj tritter plot . xxmaj everyone i talk to says the same thing . xxmaj they like xxmaj house 's gruff nature and his intelligence , but really dislike the vindictiveness of this xxunk plot . xxmaj it cuts into the real nature of the hospital story and makes everyone angry at police authority . xxmaj it needs to have</td>\n",
              "      <td>i am glad to read so many negative comments about the xxmaj tritter plot . xxmaj everyone i talk to says the same thing . xxmaj they like xxmaj house 's gruff nature and his intelligence , but really dislike the vindictiveness of this xxunk plot . xxmaj it cuts into the real nature of the hospital story and makes everyone angry at police authority . xxmaj it needs to have a</td>\n",
              "    </tr>\n",
              "    <tr>\n",
              "      <th>1</th>\n",
              "      <td>writing . \\n\\n 8 out of 10 , kids . xxbos xxmaj movie did n't have much plot and was uninteresting . xxmaj basically you spend a lot of time watching people paint . xxmaj also it 's very difficult to hear or understand the dialogue -- xxunk because of the accents , but also because words are xxunk . xxbos seriously i loved this film .. i had started to read</td>\n",
              "      <td>. \\n\\n 8 out of 10 , kids . xxbos xxmaj movie did n't have much plot and was uninteresting . xxmaj basically you spend a lot of time watching people paint . xxmaj also it 's very difficult to hear or understand the dialogue -- xxunk because of the accents , but also because words are xxunk . xxbos seriously i loved this film .. i had started to read the</td>\n",
              "    </tr>\n",
              "    <tr>\n",
              "      <th>2</th>\n",
              "      <td>gave it an xxunk twist in 1973 with xxup the xxup sunshine xxup boys , a xxmaj broadway hit starring xxmaj jack xxmaj xxunk and xxmaj sam xxmaj xxunk as xxmaj al xxmaj lewis and xxmaj willie xxmaj clark , the aged , semi - retired xxmaj xxunk . xxmaj here the \" apartment \" problem is reduced to a xxunk of two men who ca n't stand each other . xxmaj</td>\n",
              "      <td>it an xxunk twist in 1973 with xxup the xxup sunshine xxup boys , a xxmaj broadway hit starring xxmaj jack xxmaj xxunk and xxmaj sam xxmaj xxunk as xxmaj al xxmaj lewis and xxmaj willie xxmaj clark , the aged , semi - retired xxmaj xxunk . xxmaj here the \" apartment \" problem is reduced to a xxunk of two men who ca n't stand each other . xxmaj the</td>\n",
              "    </tr>\n",
              "    <tr>\n",
              "      <th>3</th>\n",
              "      <td>of everyone else in the film , the stupidity of the plot and the general xxunk of the film in general means it is downright impossible to get behind her character this time around . xxmaj the less said about xxmaj xxunk \" remember me from xxmaj kill xxmaj bill \" xxmaj xxunk 's performance the better ; it xxunk to say her \" turn \" from good to evil is about</td>\n",
              "      <td>everyone else in the film , the stupidity of the plot and the general xxunk of the film in general means it is downright impossible to get behind her character this time around . xxmaj the less said about xxmaj xxunk \" remember me from xxmaj kill xxmaj bill \" xxmaj xxunk 's performance the better ; it xxunk to say her \" turn \" from good to evil is about as</td>\n",
              "    </tr>\n",
              "    <tr>\n",
              "      <th>4</th>\n",
              "      <td>watching , you better skip this one . i watched this one on television , so i did n't have to xxunk down cash for it . xxmaj lucky me . \\n\\n xxmaj the plot develops slowly , very slowly . xxmaj although the first 30 minutes or so are quite believable , it gets more and more unbelievable towards the end . xxmaj it is highly xxunk , if a xxunk</td>\n",
              "      <td>, you better skip this one . i watched this one on television , so i did n't have to xxunk down cash for it . xxmaj lucky me . \\n\\n xxmaj the plot develops slowly , very slowly . xxmaj although the first 30 minutes or so are quite believable , it gets more and more unbelievable towards the end . xxmaj it is highly xxunk , if a xxunk soldier</td>\n",
              "    </tr>\n",
              "    <tr>\n",
              "      <th>5</th>\n",
              "      <td>the filmmakers to include so much good - natured humor in the film ( it 's what the xxmaj xxunk filmmakers did as well ) , the better to point up the utter absurdity of the situation and xxunk the appeal of the film for audiences both domestic and foreign . \" offside \" is obviously a cry for justice , but it is one that is made all the more effective</td>\n",
              "      <td>filmmakers to include so much good - natured humor in the film ( it 's what the xxmaj xxunk filmmakers did as well ) , the better to point up the utter absurdity of the situation and xxunk the appeal of the film for audiences both domestic and foreign . \" offside \" is obviously a cry for justice , but it is one that is made all the more effective by</td>\n",
              "    </tr>\n",
              "    <tr>\n",
              "      <th>6</th>\n",
              "      <td>now moving . xxmaj yes there is a xxunk degree xxunk / clip in there , but shi * xxunk anyone else see xxmaj hugh 's dirty shirt turn white ( near the end , in the rain ) in \" australia \" ? xxmaj look how much money and people were behind that movie ! xxmaj give the kid a break for xxmaj xxunk sake ! xxmaj all in all i</td>\n",
              "      <td>moving . xxmaj yes there is a xxunk degree xxunk / clip in there , but shi * xxunk anyone else see xxmaj hugh 's dirty shirt turn white ( near the end , in the rain ) in \" australia \" ? xxmaj look how much money and people were behind that movie ! xxmaj give the kid a break for xxmaj xxunk sake ! xxmaj all in all i think</td>\n",
              "    </tr>\n",
              "    <tr>\n",
              "      <th>7</th>\n",
              "      <td>blacks better but unfortunately his character is very inconsistent and confusing . xxmaj one moment , he 's doing hard work along side the xxmaj blacks or eating with them ( something the other xxmaj whites would never have done ) and the next he 's trying to beat up xxmaj protée ! i could only guess as to what motivated him -- perhaps he was just a jerk , or was</td>\n",
              "      <td>better but unfortunately his character is very inconsistent and confusing . xxmaj one moment , he 's doing hard work along side the xxmaj blacks or eating with them ( something the other xxmaj whites would never have done ) and the next he 's trying to beat up xxmaj protée ! i could only guess as to what motivated him -- perhaps he was just a jerk , or was crazy</td>\n",
              "    </tr>\n",
              "    <tr>\n",
              "      <th>8</th>\n",
              "      <td>xxunk limit this film 's final impact but had it been xxunk it may have xxunk with more viewers . xxmaj as it is , it 's worth a look . xxmaj even its xxunk admit that xxmaj peter xxmaj jackson xxunk much of his inspiration from this xxunk . xxbos \" a xxmaj cry in the xxmaj dark \" is a xxunk piece of cinema , haunting , and incredibly though</td>\n",
              "      <td>limit this film 's final impact but had it been xxunk it may have xxunk with more viewers . xxmaj as it is , it 's worth a look . xxmaj even its xxunk admit that xxmaj peter xxmaj jackson xxunk much of his inspiration from this xxunk . xxbos \" a xxmaj cry in the xxmaj dark \" is a xxunk piece of cinema , haunting , and incredibly though provoking</td>\n",
              "    </tr>\n",
              "  </tbody>\n",
              "</table>"
            ],
            "text/plain": [
              "<IPython.core.display.HTML object>"
            ]
          },
          "metadata": {
            "tags": []
          }
        }
      ]
    },
    {
      "cell_type": "code",
      "metadata": {
        "id": "Vss5cYu5sOLk",
        "colab_type": "code",
        "colab": {}
      },
      "source": [
        ""
      ],
      "execution_count": 0,
      "outputs": []
    }
  ]
}